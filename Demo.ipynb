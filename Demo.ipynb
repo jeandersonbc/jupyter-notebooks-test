{
 "cells": [
  {
   "cell_type": "markdown",
   "metadata": {},
   "source": [
    "# My Jupyter Notebook"
   ]
  },
  {
   "cell_type": "markdown",
   "metadata": {},
   "source": [
    "**Jeanderson B. Candido**<br>\n",
    "PhD Student"
   ]
  },
  {
   "cell_type": "markdown",
   "metadata": {},
   "source": [
    "_I am interested in Data Science and Data Science tools! I think this is quite useful when working in a research paper because I can share my notes with my collegues. This Jupyter Notebook was created using the [Anaconda 3](https://www.anaconda.com/) platform._"
   ]
  },
  {
   "cell_type": "markdown",
   "metadata": {},
   "source": [
    "### Naive Factorial Algorithm"
   ]
  },
  {
   "cell_type": "code",
   "execution_count": 7,
   "metadata": {},
   "outputs": [],
   "source": [
    "def fact(n):\n",
    "    if n < 1:\n",
    "        raise Exception(\"input must be greater than zero.\")\n",
    "    if n == 1:\n",
    "        return 1\n",
    "    return n * fact(n - 1)"
   ]
  },
  {
   "cell_type": "markdown",
   "metadata": {},
   "source": [
    "Some tests below:"
   ]
  },
  {
   "cell_type": "code",
   "execution_count": 8,
   "metadata": {},
   "outputs": [],
   "source": [
    "assert fact(1) == 1\n",
    "assert fact(2) == 2\n",
    "assert fact(3) == 6\n",
    "try:\n",
    "    fact(0)\n",
    "    raise Exception(\"Should have thrown an exception...\")\n",
    "except:\n",
    "    # Do nothing...\n",
    "    pass"
   ]
  },
  {
   "cell_type": "markdown",
   "metadata": {},
   "source": [
    "### Markdown tricks"
   ]
  },
  {
   "cell_type": "markdown",
   "metadata": {},
   "source": [
    "Here are some Markdown elements to enhance your notes!\n",
    "\n",
    "* item 1\n",
    "* item 2\n",
    "* item 3\n",
    "___\n",
    "\n",
    "1. Other item\n",
    "2. Foo\n",
    "3. Bar"
   ]
  },
  {
   "cell_type": "code",
   "execution_count": null,
   "metadata": {},
   "outputs": [],
   "source": []
  }
 ],
 "metadata": {
  "kernelspec": {
   "display_name": "Python 3",
   "language": "python",
   "name": "python3"
  },
  "language_info": {
   "codemirror_mode": {
    "name": "ipython",
    "version": 3
   },
   "file_extension": ".py",
   "mimetype": "text/x-python",
   "name": "python",
   "nbconvert_exporter": "python",
   "pygments_lexer": "ipython3",
   "version": "3.6.5"
  }
 },
 "nbformat": 4,
 "nbformat_minor": 2
}
